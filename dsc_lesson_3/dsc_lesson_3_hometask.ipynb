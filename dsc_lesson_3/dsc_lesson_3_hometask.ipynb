{
 "cells": [
  {
   "cell_type": "code",
   "execution_count": 314,
   "metadata": {},
   "outputs": [
    {
     "name": "stdout",
     "output_type": "stream",
     "text": [
      "                    Rank  Documents  Citable documents  Citations  \\\n",
      "Country                                                             \n",
      "China                  1     402188             400158    5077232   \n",
      "United States          2     208042             203356    3540288   \n",
      "India                  3      81853              79757     968523   \n",
      "Japan                  4      58342              57735     717946   \n",
      "United Kingdom         5      56288              54713    1095371   \n",
      "Germany                6      50906              49773     777362   \n",
      "Russian Federation     7      46186              45868     217996   \n",
      "Canada                 8      41209              40390     915491   \n",
      "Italy                  9      38700              36909     639473   \n",
      "South Korea           10      38362              38046     618762   \n",
      "Iran                  11      32080              31725     634135   \n",
      "France                12      30810              30139     547122   \n",
      "Spain                 13      29840              29156     614087   \n",
      "Australia             14      27993              27254     608021   \n",
      "Brazil                15      27316              26888     307607   \n",
      "\n",
      "                    Self-citations  Citations per document  H index  \\\n",
      "Country                                                               \n",
      "China                      3511673                   12.62      343   \n",
      "United States              1004877                   17.02      458   \n",
      "India                       369256                   11.83      237   \n",
      "Japan                       154848                   12.31      228   \n",
      "United Kingdom              179764                   19.46      293   \n",
      "Germany                     160302                   15.27      252   \n",
      "Russian Federation           96688                    4.72      112   \n",
      "Canada                      142691                   22.22      284   \n",
      "Italy                       147302                   16.52      209   \n",
      "South Korea                 105419                   16.13      198   \n",
      "Iran                        177894                   19.77      198   \n",
      "France                       89958                   17.76      221   \n",
      "Spain                       104845                   20.58      216   \n",
      "Australia                    84747                   21.72      234   \n",
      "Brazil                       71778                   11.26      154   \n",
      "\n",
      "                   Energy Supply Energy Supply per Capita  % Renewable  \\\n",
      "Country                                                                  \n",
      "China               127191000000                       93    19.754910   \n",
      "United States        90838000000                      286    11.570980   \n",
      "India                33195000000                       26    14.969080   \n",
      "Japan                18984000000                      149    10.232820   \n",
      "United Kingdom        7920000000                      124    10.600470   \n",
      "Germany              13261000000                      165    17.901530   \n",
      "Russian Federation   30709000000                      214    17.288680   \n",
      "Canada               10431000000                      296    61.945430   \n",
      "Italy                 6530000000                      109    33.667230   \n",
      "South Korea          11007000000                      221     2.279353   \n",
      "Iran                  9172000000                      119     5.707721   \n",
      "France               10597000000                      166    17.020280   \n",
      "Spain                 4923000000                      106    37.968590   \n",
      "Australia             5386000000                      231    11.810810   \n",
      "Brazil               12149000000                       59    69.648030   \n",
      "\n",
      "                            2006          2007          2008          2009  \\\n",
      "Country                                                                      \n",
      "China               2.752119e+12  3.550328e+12  4.594337e+12  5.101691e+12   \n",
      "United States       1.381558e+13  1.447423e+13  1.476986e+13  1.447807e+13   \n",
      "India               9.402599e+11  1.216736e+12  1.198895e+12  1.341888e+12   \n",
      "Japan               4.601663e+12  4.579751e+12  5.106679e+12  5.289493e+12   \n",
      "United Kingdom      2.708442e+12  3.090510e+12  2.929412e+12  2.412840e+12   \n",
      "Germany             3.046309e+12  3.484057e+12  3.808786e+12  3.479801e+12   \n",
      "Russian Federation  9.899321e+11  1.299703e+12  1.660848e+12  1.222646e+12   \n",
      "Canada              1.319265e+12  1.468820e+12  1.552990e+12  1.374625e+12   \n",
      "Italy               1.958564e+12  2.222524e+12  2.417508e+12  2.209484e+12   \n",
      "South Korea         1.053217e+12  1.172614e+12  1.047339e+12  9.439419e+11   \n",
      "Iran                2.656022e+11  3.497366e+11  4.060709e+11  4.140591e+11   \n",
      "France              2.317862e+12  2.655817e+12  2.926803e+12  2.700076e+12   \n",
      "Spain               1.261847e+12  1.476746e+12  1.636115e+12  1.496588e+12   \n",
      "Australia           7.484176e+11  8.550075e+11  1.056112e+12  9.287621e+11   \n",
      "Brazil              1.107627e+12  1.397114e+12  1.695855e+12  1.666996e+12   \n",
      "\n",
      "                            2010          2011          2012          2013  \\\n",
      "Country                                                                      \n",
      "China               6.087192e+12  7.551546e+12  8.532185e+12  9.570471e+12   \n",
      "United States       1.504897e+13  1.559973e+13  1.625397e+13  1.688068e+13   \n",
      "India               1.675616e+12  1.823052e+12  1.827638e+12  1.856722e+12   \n",
      "Japan               5.759072e+12  6.233147e+12  6.272363e+12  5.212328e+12   \n",
      "United Kingdom      2.485483e+12  2.663806e+12  2.707090e+12  2.784854e+12   \n",
      "Germany             3.468154e+12  3.824829e+12  3.597897e+12  3.808086e+12   \n",
      "Russian Federation  1.524917e+12  2.045923e+12  2.208294e+12  2.292470e+12   \n",
      "Canada              1.617343e+12  1.793327e+12  1.828366e+12  1.846597e+12   \n",
      "Italy               2.144936e+12  2.306974e+12  2.097929e+12  2.153226e+12   \n",
      "South Korea         1.143672e+12  1.253290e+12  1.278047e+12  1.370633e+12   \n",
      "Iran                4.870696e+11  6.290823e+11  6.440193e+11  5.003998e+11   \n",
      "France              2.646230e+12  2.870409e+12  2.683007e+12  2.816078e+12   \n",
      "Spain               1.427989e+12  1.487569e+12  1.330995e+12  1.362187e+12   \n",
      "Australia           1.148838e+12  1.398611e+12  1.547532e+12  1.577123e+12   \n",
      "Brazil              2.208838e+12  2.616156e+12  2.465228e+12  2.472820e+12   \n",
      "\n",
      "                            2014          2015  \n",
      "Country                                         \n",
      "China               1.047562e+13  1.106157e+13  \n",
      "United States       1.760814e+13  1.829502e+13  \n",
      "India               2.039126e+12  2.103588e+12  \n",
      "Japan               4.896994e+12  4.444931e+12  \n",
      "United Kingdom      3.064708e+12  2.927911e+12  \n",
      "Germany             3.965801e+12  3.423568e+12  \n",
      "Russian Federation  2.059242e+12  1.363482e+12  \n",
      "Canada              1.805750e+12  1.556509e+12  \n",
      "Italy               2.173256e+12  1.845428e+12  \n",
      "South Korea         1.484489e+12  1.466039e+12  \n",
      "Iran                4.622848e+11  4.091917e+11  \n",
      "France              2.861236e+12  2.442483e+12  \n",
      "Spain               1.380245e+12  1.206165e+12  \n",
      "Australia           1.468265e+12  1.351296e+12  \n",
      "Brazil              2.456044e+12  1.802212e+12  \n"
     ]
    }
   ],
   "source": [
    "import pandas as pd\n",
    "import numpy as np\n",
    "\n",
    "\n",
    "def answer_one():\n",
    "    energy = pd.read_excel(\n",
    "        'Energy Indicators.xls', skiprows=list(range(0, 18)) + list(range(245, 284)), usecols=\"C:F\",  header=None,  names=['Country', 'Energy Supply', 'Energy Supply per Capita', '% Renewable'])\n",
    "    pd.set_option('future.no_silent_downcasting', True)\n",
    "    energy = energy.replace(\"...\", np.nan)\n",
    "    energy['Energy Supply'] = energy['Energy Supply'].copy() * 10**6\n",
    "    energy['Country'] = energy['Country'].str.replace(r'\\s*\\(.*?\\)', '', regex=True)\n",
    "    energy['Country'] = energy['Country'].str.replace(r'\\d+', '', regex=True)\n",
    "    energy['Country'] = energy['Country'].replace([\"Republic of Korea\", \"United States of America\", \"United Kingdom of Great Britain and Northern Ireland\",\n",
    "                                                \"China, Hong Kong Special Administrative Region\"], [\"South Korea\", \"United States\", \"United Kingdom\", \"Hong Kong\"])\n",
    "\n",
    "    GDP = pd.read_csv('GDP.csv', skiprows=5, header=None,)\n",
    "    GDP.columns = [\"Country\", \"Country Code\", \"Indicator Name\",\n",
    "                \"Indicator Code\"]+[str(year) for year in range(1960, 2025)]\n",
    "    GDP[\"Country\"] = GDP[\"Country\"].replace(\n",
    "        [\"Korea, Rep.\", \"Iran, Islamic Rep.\", \"Hong Kong SAR, China\"], [\"South Korea\", \"Iran\", \"Hong Kong\"])\n",
    "    GDP_years = GDP.copy()[[\"Country\"] + [str(year) for year in range(2006, 2016)]]\n",
    "\n",
    "    ScimEn = pd.read_excel('ScimEn.xlsx')\n",
    "    merged_df = ScimEn.iloc[0:15].drop(columns=['Region']).merge(\n",
    "        energy, on='Country').merge(GDP_years, on='Country')\n",
    "    resulted_df = merged_df.set_index('Country')\n",
    "    \n",
    "    return (resulted_df)\n",
    "\n",
    "\n",
    "TOP15 = answer_one()\n",
    "print(TOP15)"
   ]
  },
  {
   "cell_type": "code",
   "execution_count": 308,
   "metadata": {},
   "outputs": [
    {
     "name": "stdout",
     "output_type": "stream",
     "text": [
      "                     Average GDP\n",
      "Country                         \n",
      "United States       1.572243e+13\n",
      "China               6.927707e+12\n",
      "Japan               5.239642e+12\n",
      "Germany             3.590729e+12\n",
      "United Kingdom      2.777505e+12\n",
      "France              2.692000e+12\n",
      "Italy               2.152983e+12\n",
      "Brazil              1.988889e+12\n",
      "Russian Federation  1.666746e+12\n",
      "Canada              1.616359e+12\n",
      "India               1.602352e+12\n",
      "Spain               1.406644e+12\n",
      "South Korea         1.221328e+12\n",
      "Australia           1.207997e+12\n",
      "Iran                4.567516e+11\n"
     ]
    }
   ],
   "source": [
    "def answer_two(df):\n",
    "    avgGDP = df.iloc[:, -10:].mean(axis=1, skipna=True)\n",
    "    avgGDP = avgGDP.to_frame(name=\"Average GDP\").sort_values(\n",
    "        by=\"Average GDP\", ascending=False)\n",
    "    \n",
    "    return avgGDP\n",
    "    \n",
    "\n",
    "avgGDP_for_country = answer_two(TOP15)\n",
    "print(avgGDP_for_country)"
   ]
  },
  {
   "cell_type": "code",
   "execution_count": 309,
   "metadata": {},
   "outputs": [
    {
     "name": "stdout",
     "output_type": "stream",
     "text": [
      "1.246219e+11\n"
     ]
    }
   ],
   "source": [
    "def answer_three(df, Country):\n",
    "    gdp_2006 = df.loc[Country, \"2006\"]\n",
    "    gdp_2015 = df.loc[Country, \"2015\"]\n",
    "    GDP_change = (gdp_2015 - gdp_2006)\n",
    "    \n",
    "    return f\"{GDP_change:.6e}\"\n",
    "    \n",
    "    \n",
    "print(answer_three(TOP15, avgGDP_for_country.index[5]))"
   ]
  },
  {
   "cell_type": "code",
   "execution_count": 310,
   "metadata": {},
   "outputs": [
    {
     "name": "stdout",
     "output_type": "stream",
     "text": [
      "('China', 0.6916510807463594)\n"
     ]
    }
   ],
   "source": [
    "def answer_four(df):\n",
    "    df[\"Self-Citation Ratio\"] = df[\"Self-citations\"] / df[\"Citations\"]\n",
    "    max_ratio_country = df[\"Self-Citation Ratio\"].idxmax()\n",
    "    max_ratio_value = df[\"Self-Citation Ratio\"].max()\n",
    "    result = (max_ratio_country, max_ratio_value)\n",
    "    \n",
    "    return result\n",
    "\n",
    "\n",
    "print(answer_four(TOP15))"
   ]
  },
  {
   "cell_type": "code",
   "execution_count": 311,
   "metadata": {},
   "outputs": [
    {
     "name": "stdout",
     "output_type": "stream",
     "text": [
      "United States\n"
     ]
    }
   ],
   "source": [
    "def answer_five(df):\n",
    "    df[\"Estimated population\"] = (df[\"Energy Supply\"] / \\\n",
    "        df[\"Energy Supply per Capita\"])\n",
    "    global estimated_population_for_country\n",
    "    estimated_population_for_country = df[\"Estimated population\"]\n",
    "    df = df.sort_values(by=\"Estimated population\", ascending=False)\n",
    "    \n",
    "    return df.index[2]\n",
    "\n",
    "\n",
    "print(answer_five(TOP15))"
   ]
  },
  {
   "cell_type": "code",
   "execution_count": 312,
   "metadata": {},
   "outputs": [
    {
     "name": "stdout",
     "output_type": "stream",
     "text": [
      "0.7019601723071187\n"
     ]
    }
   ],
   "source": [
    "def answer_six(df):\n",
    "    df[\"Citable docs per capita\"] = (\n",
    "        df[\"Citable documents\"] / estimated_population_for_country)\n",
    "    correlation = df['Citable docs per capita'].corr(\n",
    "        df['Energy Supply per Capita'], method='pearson')\n",
    "    \n",
    "    return correlation\n",
    "\n",
    "\n",
    "print(answer_six(TOP15))"
   ]
  },
  {
   "cell_type": "code",
   "execution_count": 313,
   "metadata": {},
   "outputs": [
    {
     "name": "stdout",
     "output_type": "stream",
     "text": [
      "               size               sum              mean           std\n",
      "Continent                                                            \n",
      "Asia              5   2898666386.6106   579733277.32212  6.790979e+08\n",
      "Australia         1   23316017.316017   23316017.316017           NaN\n",
      "Europe            6  457929667.216372   76321611.202729  3.464767e+07\n",
      "North America     2   352855249.48025  176427624.740125  1.996696e+08\n",
      "South America     1  205915254.237288  205915254.237288           NaN\n"
     ]
    }
   ],
   "source": [
    "def answer_seven(df):\n",
    "    ContinentDict = {'China': 'Asia',\n",
    "                     'United States': 'North America',\n",
    "                     'Japan': 'Asia',\n",
    "                     'United Kingdom': 'Europe',\n",
    "                     'Russian Federation': 'Europe',\n",
    "                     'Canada': 'North America',\n",
    "                     'Germany': 'Europe',\n",
    "                     'India': 'Asia',\n",
    "                     'France': 'Europe',\n",
    "                     'South Korea': 'Asia',\n",
    "                     'Italy': 'Europe',\n",
    "                     'Spain': 'Europe',\n",
    "                     'Iran': 'Asia',\n",
    "                     'Australia': 'Australia',\n",
    "                     'Brazil': 'South America'}\n",
    "    df['Estimated population'] = estimated_population_for_country\n",
    "    df['Continent'] = df.index.map(ContinentDict)\n",
    "    grouped = df.groupby('Continent')\n",
    "    size = grouped['Estimated population'].count()\n",
    "    total_population = grouped['Estimated population'].sum()\n",
    "    mean_population = grouped['Estimated population'].mean()\n",
    "    std_population = grouped['Estimated population'].std()\n",
    "    result = pd.DataFrame({\n",
    "        'size': size,\n",
    "        'sum': total_population,\n",
    "        'mean': mean_population,\n",
    "        'std': std_population\n",
    "    })\n",
    "    return result\n",
    "\n",
    "print(answer_seven(TOP15))\n",
    "\n"
   ]
  }
 ],
 "metadata": {
  "kernelspec": {
   "display_name": "dsc",
   "language": "python",
   "name": "python3"
  },
  "language_info": {
   "codemirror_mode": {
    "name": "ipython",
    "version": 3
   },
   "file_extension": ".py",
   "mimetype": "text/x-python",
   "name": "python",
   "nbconvert_exporter": "python",
   "pygments_lexer": "ipython3",
   "version": "3.12.9"
  }
 },
 "nbformat": 4,
 "nbformat_minor": 2
}
