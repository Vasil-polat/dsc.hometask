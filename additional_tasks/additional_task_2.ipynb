{
 "cells": [
  {
   "cell_type": "code",
   "execution_count": 26,
   "id": "4eb89146",
   "metadata": {},
   "outputs": [],
   "source": [
    "def two_glasses(floors):\n",
    "    num = 0\n",
    "    sum_num = 0\n",
    "    while sum_num < floors:\n",
    "        num += 1\n",
    "        sum_num += num\n",
    "    return num"
   ]
  },
  {
   "cell_type": "code",
   "execution_count": 27,
   "id": "dba22a89",
   "metadata": {},
   "outputs": [
    {
     "data": {
      "text/plain": [
       "14"
      ]
     },
     "execution_count": 27,
     "metadata": {},
     "output_type": "execute_result"
    }
   ],
   "source": [
    "two_glasses(floors)"
   ]
  },
  {
   "cell_type": "code",
   "execution_count": 28,
   "id": "2ab6216b",
   "metadata": {},
   "outputs": [
    {
     "data": {
      "text/plain": [
       "45"
      ]
     },
     "execution_count": 28,
     "metadata": {},
     "output_type": "execute_result"
    }
   ],
   "source": [
    "two_glasses(floors=1000)"
   ]
  },
  {
   "cell_type": "code",
   "execution_count": 29,
   "id": "318ccfd4",
   "metadata": {},
   "outputs": [],
   "source": [
    "from functools import lru_cache\n",
    "\n",
    "\n",
    "def min_drops_needed(glasses, floors):\n",
    "    @lru_cache(None)\n",
    "    def solve(glasses, floors):\n",
    "        if floors == 0:\n",
    "            return 0\n",
    "        if floors == 1:\n",
    "            return 1\n",
    "        if glasses == 1:\n",
    "            return floors\n",
    "\n",
    "        low, high = 1, floors\n",
    "        result = floors\n",
    "        while low <= high:\n",
    "            mid = (low + high) // 2\n",
    "            break_case = solve(glasses - 1, mid - 1)\n",
    "            survive_case = solve(glasses, floors - mid)\n",
    "\n",
    "            worst_case = 1 + max(break_case, survive_case)\n",
    "            result = min(result, worst_case)\n",
    "\n",
    "            if break_case > survive_case:\n",
    "                high = mid - 1\n",
    "            else:\n",
    "                low = mid + 1\n",
    "        return result\n",
    "\n",
    "    return solve(glasses, floors)"
   ]
  },
  {
   "cell_type": "code",
   "execution_count": 30,
   "id": "f3bfa860",
   "metadata": {},
   "outputs": [
    {
     "data": {
      "text/plain": [
       "9"
      ]
     },
     "execution_count": 30,
     "metadata": {},
     "output_type": "execute_result"
    }
   ],
   "source": [
    "min_drops_needed(3, 100)"
   ]
  },
  {
   "cell_type": "code",
   "execution_count": 31,
   "id": "16d03429",
   "metadata": {},
   "outputs": [
    {
     "data": {
      "text/plain": [
       "19"
      ]
     },
     "execution_count": 31,
     "metadata": {},
     "output_type": "execute_result"
    }
   ],
   "source": [
    "min_drops_needed(3, 1000)"
   ]
  },
  {
   "cell_type": "code",
   "execution_count": 32,
   "id": "fa413720",
   "metadata": {},
   "outputs": [
    {
     "data": {
      "text/plain": [
       "11"
      ]
     },
     "execution_count": 32,
     "metadata": {},
     "output_type": "execute_result"
    }
   ],
   "source": [
    "min_drops_needed(5, 1000)"
   ]
  }
 ],
 "metadata": {
  "kernelspec": {
   "display_name": "faiss_gpu_env",
   "language": "python",
   "name": "python3"
  },
  "language_info": {
   "codemirror_mode": {
    "name": "ipython",
    "version": 3
   },
   "file_extension": ".py",
   "mimetype": "text/x-python",
   "name": "python",
   "nbconvert_exporter": "python",
   "pygments_lexer": "ipython3",
   "version": "3.9.23"
  }
 },
 "nbformat": 4,
 "nbformat_minor": 5
}
